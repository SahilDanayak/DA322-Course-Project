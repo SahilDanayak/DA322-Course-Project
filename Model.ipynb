{
 "cells": [
  {
   "cell_type": "markdown",
   "metadata": {},
   "source": [
    "### MODEL DESIGNING"
   ]
  },
  {
   "cell_type": "code",
   "execution_count": 1,
   "metadata": {},
   "outputs": [],
   "source": [
    "import pandas as pd\n",
    "import numpy as np\n",
    "import tensorflow as tf\n",
    "from matplotlib import pyplot as plt\n",
    "import cv2 as cv\n",
    "import os\n",
    "import PIL\n",
    "from sklearn.metrics import classification_report\n",
    "from tensorflow import keras\n",
    "from tensorflow.keras import layers, models\n",
    "from tensorflow.keras.preprocessing.image import load_img, img_to_array\n",
    "from tensorflow.keras.preprocessing.text import Tokenizer\n",
    "from tensorflow.keras.applications.vgg16 import VGG16, preprocess_input\n",
    "from tensorflow.keras.preprocessing.sequence import pad_sequences"
   ]
  },
  {
   "cell_type": "code",
   "execution_count": 2,
   "metadata": {},
   "outputs": [],
   "source": [
    "pict_size=36\n",
    "data_dir=\"./train/\"\n",
    "Type=['FAKE','REAL']\n",
    "val={'FAKE':0,'REAL':1}\n",
    "final={0:'FAKE',1:'REAL'}"
   ]
  },
  {
   "cell_type": "code",
   "execution_count": null,
   "metadata": {},
   "outputs": [],
   "source": [
    "X_Train=pd.read_pickle('X.pickle')\n",
    "Y_Train=pd.read_pickle('Y.pickle')"
   ]
  },
  {
   "cell_type": "code",
   "execution_count": null,
   "metadata": {},
   "outputs": [],
   "source": [
    "model=models.Sequential([\n",
    "        layers.Conv2D(filters=80,kernel_size=(3,3),padding='same',activation='relu',input_shape=(36,36,3)),\n",
    "        layers.MaxPool2D((2,2)),\n",
    "        layers.Dropout((0.2)),\n",
    "        layers.Conv2D(filters=64,kernel_size=(3,3),padding='same',activation='relu'),\n",
    "        layers.MaxPool2D((2,2)),\n",
    "        layers.Dropout((0.2)),\n",
    "        layers.Conv2D(filters=40,kernel_size=(3,3),padding='same',activation='relu'),\n",
    "        layers.MaxPool2D((2,2)),\n",
    "        layers.Dropout((0.1)),\n",
    "        layers.Conv2D(filters=20,kernel_size=(3,3),padding='same',activation='relu'),\n",
    "        layers.MaxPool2D((2,2)),\n",
    "        layers.Dropout((0.1)),\n",
    "        \n",
    "        layers.Flatten(),\n",
    "        layers.Dense(64,activation='relu'),\n",
    "        layers.Dropout(0.2),\n",
    "        layers.Dense(48,activation='relu'),\n",
    "        layers.Dropout(0.2),\n",
    "        \n",
    "        layers.Dense(2,activation='sigmoid')\n",
    "])\n",
    "\n",
    "model.compile(\n",
    "    optimizer='adam',\n",
    "    loss='sparse_categorical_crossentropy',\n",
    "    metrics=['accuracy']\n",
    ")"
   ]
  },
  {
   "cell_type": "markdown",
   "metadata": {},
   "source": [
    "###### FILTERS HELP IN EXTRACTING FEATURES FROM THE IMAGES AND THEIR SIZE IS DENOTED BY KERNEL SIZE.\n",
    "###### STRIDE IS FOR SHIFTING OUR KERNEL BY HOW MANY POSITIONS.\n",
    "###### MAXPOOLING 2D HELPS IN SIZE REDUCTION USING MAX \n",
    "###### PADDING HELPS IN CAPTURING THE FEATURES LOCATED AT EDGES AND CORNERS AND ENFORCES THEIR CONTRIBUTION.\n"
   ]
  },
  {
   "cell_type": "code",
   "execution_count": null,
   "metadata": {},
   "outputs": [],
   "source": [
    "model.fit(X_Train,Y_Train,epochs=10)"
   ]
  },
  {
   "cell_type": "code",
   "execution_count": null,
   "metadata": {},
   "outputs": [],
   "source": [
    "model.save(\"Model.h5\")"
   ]
  },
  {
   "cell_type": "code",
   "execution_count": null,
   "metadata": {},
   "outputs": [],
   "source": [
    "data_test_dir=\"./test/\"\n",
    "Testing_data=[]\n",
    "lis=[]\n",
    "for categ in Type:\n",
    "    Files=os.listdir(data_test_dir+categ+\"/\")\n",
    "    i=1\n",
    "    for file in Files:\n",
    "        imgpath=os.path.join(data_test_dir+categ+\"/\",file)\n",
    "        lis.append(imgpath)\n",
    "        image=cv.imread(imgpath)\n",
    "        img=cv.imread(str(lis[-1]))\n",
    "        try:\n",
    "            new_img=cv.resize(img,(pict_size,pict_size))\n",
    "            new_img=new_img/255\n",
    "            Testing_data.append([new_img,val[categ]])\n",
    "        except:\n",
    "            print(\"Not able to preprocess\")\n",
    "        i=i+1"
   ]
  },
  {
   "cell_type": "code",
   "execution_count": null,
   "metadata": {},
   "outputs": [],
   "source": [
    "PIL.Image.open(str(lis[-1]))"
   ]
  },
  {
   "cell_type": "code",
   "execution_count": null,
   "metadata": {},
   "outputs": [],
   "source": [
    "X_Test=[]\n",
    "Y_Test=[]\n",
    "for i in range(0,len(Testing_data)):\n",
    "    X_Test.append(Testing_data[i][0])\n",
    "    Y_Test.append(Testing_data[i][1])\n",
    "X_Test=np.array(X_Test)\n",
    "Y_Test=np.array(Y_Test)\n",
    "print(X_Test.shape)\n",
    "print(Y_Test.shape)\n",
    "y_pred=model.predict(X_Test)"
   ]
  },
  {
   "cell_type": "code",
   "execution_count": null,
   "metadata": {},
   "outputs": [],
   "source": [
    "Y_Pred=[]\n",
    "for i in range(len(y_pred)):\n",
    "    y_hat=np.argmax(y_pred[i])\n",
    "    Y_Pred.append(y_hat)"
   ]
  },
  {
   "cell_type": "code",
   "execution_count": null,
   "metadata": {},
   "outputs": [],
   "source": [
    "print(classification_report(Y_Test,Y_Pred))"
   ]
  },
  {
   "cell_type": "code",
   "execution_count": null,
   "metadata": {},
   "outputs": [],
   "source": [
    "\n",
    "lis=[]\n",
    "Test=[]\n",
    "data_test_dir=\"./Testing/\"\n",
    "Files=os.listdir(data_test_dir)\n",
    "i=1\n",
    "for file in Files:\n",
    "    imgpath=os.path.join(data_test_dir,file)\n",
    "    lis.append(imgpath)\n",
    "    image=cv.imread(imgpath)\n",
    "    img=cv.imread(str(lis[-1]))\n",
    "    try:\n",
    "        new_img=cv.resize(img,(36,36))\n",
    "        new_img=new_img/255\n",
    "        Test.append(new_img)\n",
    "    except:\n",
    "        print(\"Not able to preprocess\")\n",
    "    print(i)\n",
    "    i=i+1"
   ]
  },
  {
   "cell_type": "code",
   "execution_count": null,
   "metadata": {},
   "outputs": [],
   "source": [
    "PIL.Image.open(str(lis[-1]))"
   ]
  },
  {
   "cell_type": "code",
   "execution_count": null,
   "metadata": {},
   "outputs": [],
   "source": [
    "y_pred=model.predict(Test)\n",
    "y_hat=np.argmax(y_pred[0])\n",
    "print(final[y_hat])"
   ]
  }
 ],
 "metadata": {
  "kernelspec": {
   "display_name": "Python 3",
   "language": "python",
   "name": "python3"
  },
  "language_info": {
   "codemirror_mode": {
    "name": "ipython",
    "version": 3
   },
   "file_extension": ".py",
   "mimetype": "text/x-python",
   "name": "python",
   "nbconvert_exporter": "python",
   "pygments_lexer": "ipython3",
   "version": "3.11.4"
  }
 },
 "nbformat": 4,
 "nbformat_minor": 2
}
