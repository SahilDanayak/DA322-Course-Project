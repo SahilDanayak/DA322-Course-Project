{
 "cells": [
  {
   "cell_type": "code",
   "execution_count": 38,
   "metadata": {},
   "outputs": [],
   "source": [
    "import bs4\n",
    "import requests\n",
    "from selenium import webdriver\n",
    "import os\n",
    "import time\n",
    "import io\n",
    "from PIL import Image"
   ]
  },
  {
   "cell_type": "code",
   "execution_count": 2,
   "metadata": {},
   "outputs": [],
   "source": [
    "folder_name_ai = 'ai_images'\n",
    "if not os.path.isdir(folder_name_ai):\n",
    "    os.makedirs(folder_name_ai)\n",
    "folder_name_real = 'real_images'\n",
    "if not os.path.isdir(folder_name_real):\n",
    "    os.makedirs(folder_name_real)"
   ]
  },
  {
   "cell_type": "code",
   "execution_count": 39,
   "metadata": {},
   "outputs": [],
   "source": [
    "def download_image(download_path, url, file_name):\n",
    "\ttry:\n",
    "\t\timage_content = requests.get(url).content\n",
    "\t\timage_file = io.BytesIO(image_content)\n",
    "\t\timage = Image.open(image_file)\n",
    "\t\tfile_path = download_path + file_name\n",
    "\n",
    "\t\twith open(file_path, \"wb\") as f:\n",
    "\t\t\timage.save(f, \"JPEG\")\n",
    "\n",
    "\t\tprint(\"Success\")\n",
    "\texcept Exception as e:\n",
    "\t\tprint('FAILED -', e)"
   ]
  },
  {
   "cell_type": "code",
   "execution_count": 4,
   "metadata": {},
   "outputs": [],
   "source": [
    "driver=webdriver.Chrome()\n",
    "# driver.get()\n",
    "# driver.quit()"
   ]
  },
  {
   "cell_type": "code",
   "execution_count": null,
   "metadata": {},
   "outputs": [],
   "source": [
    "url=\"data:image/jpeg;base64,/9j/4AAQSkZJRgABAQAAAQABAAD…45DzZ2s7d3f8A6g/wZ35IgduLv/1B/hTvyRxePoH4pN+Rn//Z\""
   ]
  },
  {
   "cell_type": "code",
   "execution_count": 11,
   "metadata": {},
   "outputs": [],
   "source": [
    "from selenium import webdriver\n",
    "from selenium.webdriver.common.keys import Keys\n",
    "import time\n",
    "from selenium.webdriver.common.by import By"
   ]
  },
  {
   "cell_type": "code",
   "execution_count": null,
   "metadata": {},
   "outputs": [],
   "source": [
    "# i=1\n",
    "driver=webdriver.Chrome()\n",
    "driver.get(\"https://www.google.com/search?q=ai+generated+images&tbm=isch&ved=2ahUKEwjk5-ru3Lv_AhWN3HMBHWUOBa4Q2-cCegQIABAA&oq=ai+generated+images&gs_lcp=CgNpbWcQARgAMgQIIxAnMgcIABCKBRBDMgUIABCABDIHCAAQigUQQzIFCAAQgAQyBQgAEIAEMgUIABCABDIFCAAQgAQyBQgAEIAEMgUIABCABFAAWABgyAdoAHAAeACAAb8BiAG_AZIBAzAuMZgBAKoBC2d3cy13aXotaW1nwAEB&sclient=img&ei=HgKGZOTgMY25z7sP5ZyU8Ao&bih=714&biw=1536&rlz=1C1CHBF_enIN978IN978\")\n",
    "driver.execute_script(\"window.scrollTo(0, 0);\")\n",
    "page_html = driver.page_source\n",
    "pageSoup = bs4.BeautifulSoup(page_html, 'html.parser')\n",
    "containers = pageSoup.findAll('div', {'class':\"isv-r PNCib MSM1fd BUooTd\"} )\n",
    "\n",
    "print(len(containers))\n",
    "len_containers = len(containers)\n",
    "for i in range(1,len_containers+1):\n",
    "    # print(i)\n",
    "    if(i%25==0):\n",
    "        continue\n",
    "    \n",
    "    xPath = \"\"\"//*[@id=\"islrg\"]/div[1]/div[%s]\"\"\"%(i)\n",
    "\n",
    "    previewImageXPath = \"\"\"//*[@id=\"islrg\"]/div[1]/div[%s]/a[1]/div[1]/img\"\"\"%(i)\n",
    "    previewImageElement = driver.find_element(By.XPATH,previewImageXPath)\n",
    "    previewImageURL = previewImageElement.get_attribute(\"src\")\n",
    "    driver.find_element(By.XPATH,xPath).click()\n",
    "    driver.get(previewImageURL)\n",
    "    # time.sleep(0.5)\n",
    "    timeStarted = time.time()\n",
    "    try:\n",
    "        download_image(previewImageURL, folder_name_ai, i)\n",
    "        print(\"Downloaded element %s out of %s total. URL: %s\" % (i, len_containers + 1, previewImageURL))\n",
    "    except:\n",
    "        print(\"Couldn't download an image %s, continuing downloading the next one\"%(i))\n",
    "    "
   ]
  },
  {
   "attachments": {},
   "cell_type": "markdown",
   "metadata": {},
   "source": [
    "###### BUT USING THIS METHOD THERE ARE NON UNIFORMITIES IN TAGS AND ALSO WE DONT HAVE A LOT OF RELEVANT PICTURES ON GOOGLE IMAGES"
   ]
  },
  {
   "cell_type": "code",
   "execution_count": null,
   "metadata": {},
   "outputs": [],
   "source": [
    "from pygoogle_image import image as pi\n"
   ]
  },
  {
   "cell_type": "code",
   "execution_count": 42,
   "metadata": {},
   "outputs": [
    {
     "name": "stderr",
     "output_type": "stream",
     "text": [
      "[========================================================================] 100%\n",
      "[========================================================================] 100%\n"
     ]
    }
   ],
   "source": [
    "pi.download(keywords='ai generated images', limit=100, directory='./ai_images/')\n",
    "pi.download(keywords='dalle2 generated images', limit=100, directory='./ai_images/')"
   ]
  },
  {
   "cell_type": "code",
   "execution_count": 43,
   "metadata": {},
   "outputs": [
    {
     "name": "stderr",
     "output_type": "stream",
     "text": [
      "[========================================================================] 100%\n",
      "[========================================================================] 100%\n",
      "[========================================================================] 100%\n"
     ]
    }
   ],
   "source": [
    "pi.download(keywords='animals', limit=100, directory='./real_images/')\n",
    "pi.download(keywords='humans', limit=100, directory='./real_images/')\n",
    "pi.download(keywords='cityscape', limit=100, directory='./real_images/')\n"
   ]
  }
 ],
 "metadata": {
  "kernelspec": {
   "display_name": "Python 3",
   "language": "python",
   "name": "python3"
  },
  "language_info": {
   "codemirror_mode": {
    "name": "ipython",
    "version": 3
   },
   "file_extension": ".py",
   "mimetype": "text/x-python",
   "name": "python",
   "nbconvert_exporter": "python",
   "pygments_lexer": "ipython3",
   "version": "3.11.4"
  },
  "orig_nbformat": 4
 },
 "nbformat": 4,
 "nbformat_minor": 2
}
